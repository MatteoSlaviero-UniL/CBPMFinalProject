{
 "cells": [
  {
   "cell_type": "code",
   "execution_count": 1,
   "metadata": {},
   "outputs": [],
   "source": [
    "from mytoolbox import *\n",
    "\n",
    "orientation = [-1, -1, 1]\n",
    "\n",
    "Bx = 0.001 * 3.54\n",
    "By = 0.001 * 1.73\n",
    "Bz = 0.001 * 6.95\n",
    "\n",
    "B_field = [Bx, By, Bz]"
   ]
  },
  {
   "cell_type": "code",
   "execution_count": 2,
   "metadata": {},
   "outputs": [
    {
     "name": "stdout",
     "output_type": "stream",
     "text": [
      "Resonant frequency zero to minus one: 2.8672468012985357\n",
      "Resonant frequency zero to plus one: 2.9240980900503963\n"
     ]
    }
   ],
   "source": [
    "D = 2.87  # Zero-field splitting in GHz\n",
    "g_e = -28.03  # Gyromagnetic ratio of the electron, units are GHz/T\n",
    "\n",
    "\n",
    "e0, em1, ep1= compute_eigenvalues(D, g_e, orientation, B_field)/(2*np.pi)\n",
    "\n",
    "print(f\"Resonant frequency zero to minus one: {em1-e0}\")\n",
    "print(f\"Resonant frequency zero to plus one: {ep1-e0}\")"
   ]
  },
  {
   "cell_type": "code",
   "execution_count": 4,
   "metadata": {},
   "outputs": [
    {
     "name": "stdout",
     "output_type": "stream",
     "text": [
      "Resonant frequency zero to minus one: 2.8091916144835842\n",
      "Resonant frequency zero to plus one: 2.975797519069155\n"
     ]
    }
   ],
   "source": [
    "e0, em1, ep1= compute_eigenvalues(D, g_e, [1,-1,-1], B_field)/(2*np.pi)\n",
    "\n",
    "print(f\"Resonant frequency zero to minus one: {em1-e0}\")\n",
    "print(f\"Resonant frequency zero to plus one: {ep1-e0}\")"
   ]
  },
  {
   "cell_type": "code",
   "execution_count": null,
   "metadata": {},
   "outputs": [],
   "source": []
  }
 ],
 "metadata": {
  "kernelspec": {
   "display_name": "base",
   "language": "python",
   "name": "python3"
  },
  "language_info": {
   "codemirror_mode": {
    "name": "ipython",
    "version": 3
   },
   "file_extension": ".py",
   "mimetype": "text/x-python",
   "name": "python",
   "nbconvert_exporter": "python",
   "pygments_lexer": "ipython3",
   "version": "3.11.7"
  }
 },
 "nbformat": 4,
 "nbformat_minor": 2
}
